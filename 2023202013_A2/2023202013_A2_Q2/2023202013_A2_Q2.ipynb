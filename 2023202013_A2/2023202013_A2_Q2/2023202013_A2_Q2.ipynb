{
  "cells": [
    {
      "cell_type": "markdown",
      "id": "518efe1c-da13-465c-b62a-0e38ae6f110c",
      "metadata": {
        "tags": [],
        "id": "518efe1c-da13-465c-b62a-0e38ae6f110c"
      },
      "source": [
        "# SMAI Assignment - 2\n",
        "\n",
        "## Question 2: Gaussian Mixture Models\n",
        "\n",
        "Resources:\n",
        "- https://youtu.be/qMTuMa86NzU\n",
        "- https://youtu.be/ZBLyXgjBx3Q\n",
        "\n",
        "Reference: https://scikit-learn.org/stable/modules/mixture.html"
      ]
    },
    {
      "cell_type": "code",
      "execution_count": 1,
      "id": "a1e7d9be-241c-4e93-aefe-36d5ffddb4df",
      "metadata": {
        "execution": {
          "iopub.execute_input": "2023-03-08T11:21:25.323288Z",
          "iopub.status.busy": "2023-03-08T11:21:25.322925Z",
          "iopub.status.idle": "2023-03-08T11:21:26.039733Z",
          "shell.execute_reply": "2023-03-08T11:21:26.039124Z",
          "shell.execute_reply.started": "2023-03-08T11:21:25.323265Z"
        },
        "tags": [],
        "id": "a1e7d9be-241c-4e93-aefe-36d5ffddb4df"
      },
      "outputs": [],
      "source": [
        "import os\n",
        "import numpy as np\n",
        "import matplotlib.pyplot as plt\n",
        "%matplotlib inline\n",
        "\n",
        "import cv2"
      ]
    },
    {
      "cell_type": "markdown",
      "id": "71a78b0c-256b-4b46-b925-d69e455e3d76",
      "metadata": {
        "id": "71a78b0c-256b-4b46-b925-d69e455e3d76"
      },
      "source": [
        "### Part 1: Gaussian Mixture Models\n",
        "\n",
        "We'll attempt to solve the task of background subtraction using Gaussian Mixture Models. Before that, you will need to implement the Gaussian Mixture Model algorithm from scratch.\n",
        "\n",
        "Some details:\n",
        "- Try to implement GMMs using Multi-variate Gaussian Distributions, the following tasks in the assignment are possible to implement using the Univariate version too but it might be bit inaccurate as explained below.\n",
        "    - To clarify further, we could treat each pixel in our RGB image as our data point with [R, G, B] channels as the dimensions to the Multi-variate data point, and we would easily get predictions for each pixel location using Multi-variate approach.\n",
        "    - Or, we could treat every single value in the given RGB image as a data point independent of what channel the belong to and consider them as Uni-variate data point, and get prediction using the Uni-variate approach.\n",
        "    But this affects our prediction, since we can't simply make per pixel predtions anymore, because for every pixel location we would now have 3 different predictions.\n",
        "    - To get around this, you could convert your image to Grayscale and then we would only have one channel/value corresponding to each pixel location, which would now allow us to use the Uni-variate approach for prediction, but this also means loss in information which would affect our quality of predictions.\n",
        "    - Try to have a class based implementation of GMM, this would really help you in Background Subtraction task. You can get some general ideas on how to structure your class by looking at `sklearn.mixture.GaussianMixture` documentation and source code.\n",
        "- The following code cell has a rough template to get you started with the implementation. You are free to change the structure of the code, this is just a suggestion to help you get started.\n",
        "\n",
        "\n",
        "TLDR: You may implement the univariate version of GMMs, but it might not be as accurate as the multivariate version and it is recommended to try and implement the multivariate version."
      ]
    },
    {
      "cell_type": "code",
      "source": [
        "import numpy as np\n",
        "from scipy.stats import multivariate_normal\n",
        "\n",
        "class GMM:\n",
        "    def __init__(self, n_components=2, max_iter=100, tol=1e-3, reg_covar=1e-6):\n",
        "        self.n_components = n_components\n",
        "        self.max_iter = max_iter\n",
        "        self.tol = tol\n",
        "        self.reg_covar = reg_covar\n",
        "        self.weights = None\n",
        "        self.means = None\n",
        "        self.covars = None\n",
        "        self.converged = False\n",
        "\n",
        "    def initialize_parameters(self, X):\n",
        "        np.random.seed(1)\n",
        "        n_samples, n_features = X.shape\n",
        "\n",
        "        self.means = X[np.random.choice(n_samples, self.n_components, False), :]\n",
        "\n",
        "        self.weights = np.full(self.n_components, 1 / self.n_components)\n",
        "\n",
        "        self.covars = np.array([np.eye(n_features) for _ in range(self.n_components)])\n",
        "\n",
        "    def e_step(self, X):\n",
        "        n_samples = X.shape[0]\n",
        "        responsibilities = np.zeros((n_samples, self.n_components))\n",
        "\n",
        "        for i, (mean, covar) in enumerate(zip(self.means, self.covars)):\n",
        "            rv = multivariate_normal(mean, covar)\n",
        "            responsibilities[:, i] = self.weights[i] * rv.pdf(X)\n",
        "\n",
        "        responsibilities_sum = responsibilities.sum(axis=1)[:, np.newaxis]\n",
        "        responsibilities /= responsibilities_sum\n",
        "\n",
        "        return responsibilities\n",
        "\n",
        "    def m_step(self, X, responsibilities):\n",
        "        n_samples, n_features = X.shape\n",
        "        weights = responsibilities.sum(axis=0)\n",
        "        weighted_sum = np.dot(responsibilities.T, X)\n",
        "        means = weighted_sum / weights[:, np.newaxis]\n",
        "        covars = np.zeros((self.n_components, n_features, n_features))\n",
        "\n",
        "        for i in range(self.n_components):\n",
        "            diff = X - means[i]\n",
        "            weighted_sum = np.dot(responsibilities[:, i] * diff.T, diff)\n",
        "            covar = weighted_sum / weights[i]\n",
        "            # Add a small regularization term to the diagonal of the covariance matrix\n",
        "            covars[i] = covar + np.eye(n_features) * self.reg_covar\n",
        "\n",
        "        self.weights = weights / n_samples\n",
        "        self.means = means\n",
        "        self.covars = covars\n",
        "\n",
        "\n",
        "    def fit(self, X):\n",
        "        self.initialize_parameters(X)\n",
        "\n",
        "        for _ in range(self.max_iter):\n",
        "            responsibilities = self.e_step(X)\n",
        "            self.m_step(X, responsibilities)\n",
        "\n",
        "            log_likelihood = np.sum(np.log(np.sum([w * multivariate_normal(mean, covar).pdf(X)\n",
        "                                                   for w, mean, covar in zip(self.weights, self.means, self.covars)], axis=0)))\n",
        "            if log_likelihood > -self.tol:\n",
        "                self.converged = True\n",
        "                break\n",
        "\n",
        "    def predict_proba(self, X):\n",
        "        likelihood = np.array([multivariate_normal(mean, covar).pdf(X)\n",
        "                               for mean, covar in zip(self.means, self.covars)])\n",
        "        probabilities = np.dot(likelihood.T, self.weights)\n",
        "        return probabilities\n",
        "\n",
        "    def predict(self, X):\n",
        "        probabilities = self.predict_proba(X)\n",
        "        return np.argmax(probabilities, axis=1)\n"
      ],
      "metadata": {
        "id": "4L1A0bYaEJbW"
      },
      "id": "4L1A0bYaEJbW",
      "execution_count": 2,
      "outputs": []
    },
    {
      "cell_type": "markdown",
      "id": "535a6266-8fe6-4b8a-8f40-5e0e3c8721c8",
      "metadata": {
        "jp-MarkdownHeadingCollapsed": true,
        "tags": [],
        "id": "535a6266-8fe6-4b8a-8f40-5e0e3c8721c8"
      },
      "source": [
        "### Part 2: Background Subtraction\n",
        "\n",
        "![traffic](./videos/traffic.gif)\n",
        "\n",
        "In this question, you are required to extract the background image from a given set of training frames, and use the extracted background to display foreground objects in the test frames by subtracting that background image and then thresholding it accordingly.\n",
        "\n",
        "In this question, we are going to try different baselines to extract background from low resolution camera footage:\n",
        "\n",
        "1. Frame Averaging:\n",
        "    - Just take the average of every training frame, which gives us an approximate background image.\n",
        "    \n",
        "2. GMM Per Pixel:\n",
        "    - We will maintain per pixel GMMs of 2 components, and then fit these GMMs considering every training from for its corresponding pixel.\n",
        "    - And then use these GMMs to predict the pixel labels for every subsequent frame.\n",
        "    - Most of the time, the Gaussian with the higher weight corresponds to the background.\n",
        "    - We can implement this in a simpler way but with worse prediction results, you can extract a mean background image similar to the first baseline above.\n",
        "    - To extract the Mean background image, we can assign values of the Means corresponding to the highest weighted Gaussian for each pixel.\n",
        "    - This method is much simpler to implement but, this could give worse results."
      ]
    },
    {
      "cell_type": "markdown",
      "id": "7a05a728-7e46-4875-8202-a2f4c15474ef",
      "metadata": {
        "jp-MarkdownHeadingCollapsed": true,
        "tags": [],
        "id": "7a05a728-7e46-4875-8202-a2f4c15474ef"
      },
      "source": [
        "#### Extracting Frames from videos"
      ]
    },
    {
      "cell_type": "code",
      "execution_count": 3,
      "id": "4bce85da-089c-49cb-a145-262f888e16a6",
      "metadata": {
        "execution": {
          "iopub.execute_input": "2023-03-08T04:08:37.130369Z",
          "iopub.status.busy": "2023-03-08T04:08:37.129961Z",
          "iopub.status.idle": "2023-03-08T04:08:37.135022Z",
          "shell.execute_reply": "2023-03-08T04:08:37.133398Z",
          "shell.execute_reply.started": "2023-03-08T04:08:37.130341Z"
        },
        "id": "4bce85da-089c-49cb-a145-262f888e16a6"
      },
      "outputs": [],
      "source": [
        "video = 'traffic.gif'\n",
        "\n",
        "source_path = f'./{video}'"
      ]
    },
    {
      "cell_type": "code",
      "execution_count": 4,
      "id": "26ff69e5-55c6-4351-ba5c-4f09f1affe4c",
      "metadata": {
        "execution": {
          "iopub.execute_input": "2023-03-08T04:08:37.136732Z",
          "iopub.status.busy": "2023-03-08T04:08:37.136360Z",
          "iopub.status.idle": "2023-03-08T04:08:37.141945Z",
          "shell.execute_reply": "2023-03-08T04:08:37.140639Z",
          "shell.execute_reply.started": "2023-03-08T04:08:37.136693Z"
        },
        "tags": [],
        "id": "26ff69e5-55c6-4351-ba5c-4f09f1affe4c"
      },
      "outputs": [],
      "source": [
        "data_folder = 'frames'\n",
        "\n",
        "frames_path = f\"./{data_folder}/{video.rsplit('.', 1)[0]}\""
      ]
    },
    {
      "cell_type": "code",
      "execution_count": 5,
      "id": "ec1404b3-0318-4d1d-a4f8-cd1ad32c312c",
      "metadata": {
        "execution": {
          "iopub.execute_input": "2023-03-08T04:08:37.143793Z",
          "iopub.status.busy": "2023-03-08T04:08:37.143330Z",
          "iopub.status.idle": "2023-03-08T04:08:37.276702Z",
          "shell.execute_reply": "2023-03-08T04:08:37.275738Z",
          "shell.execute_reply.started": "2023-03-08T04:08:37.143758Z"
        },
        "id": "ec1404b3-0318-4d1d-a4f8-cd1ad32c312c"
      },
      "outputs": [],
      "source": [
        "%%capture\n",
        "\n",
        "!mkdir -p {frames_path} > /dev/null ;"
      ]
    },
    {
      "cell_type": "code",
      "execution_count": 6,
      "id": "dc493fa5-d2fb-4354-8eec-aa3daa3e3804",
      "metadata": {
        "execution": {
          "iopub.execute_input": "2023-03-08T04:08:37.278274Z",
          "iopub.status.busy": "2023-03-08T04:08:37.277897Z",
          "iopub.status.idle": "2023-03-08T04:08:37.518249Z",
          "shell.execute_reply": "2023-03-08T04:08:37.517372Z",
          "shell.execute_reply.started": "2023-03-08T04:08:37.278239Z"
        },
        "id": "dc493fa5-d2fb-4354-8eec-aa3daa3e3804"
      },
      "outputs": [],
      "source": [
        "%%capture\n",
        "\n",
        "!ffmpeg -i {source_path} {frames_path}/'frame_%04d.png' > /dev/null ;"
      ]
    },
    {
      "cell_type": "markdown",
      "id": "e121347b-6089-4cf0-bc6e-1a341a48c397",
      "metadata": {
        "jp-MarkdownHeadingCollapsed": true,
        "tags": [],
        "id": "e121347b-6089-4cf0-bc6e-1a341a48c397"
      },
      "source": [
        "#### Loading Frames"
      ]
    },
    {
      "cell_type": "code",
      "execution_count": 7,
      "id": "9989bdab-245a-4c67-bc3e-c2067e9a72ab",
      "metadata": {
        "execution": {
          "iopub.execute_input": "2023-03-08T04:08:37.519762Z",
          "iopub.status.busy": "2023-03-08T04:08:37.519393Z",
          "iopub.status.idle": "2023-03-08T04:08:37.581165Z",
          "shell.execute_reply": "2023-03-08T04:08:37.580447Z",
          "shell.execute_reply.started": "2023-03-08T04:08:37.519727Z"
        },
        "id": "9989bdab-245a-4c67-bc3e-c2067e9a72ab"
      },
      "outputs": [],
      "source": [
        "import glob\n",
        "\n",
        "frames = []\n",
        "\n",
        "for file_path in sorted(glob.glob(f'{frames_path}/*.png', recursive = False)):\n",
        "    img = cv2.imread(file_path)\n",
        "    img = cv2.cvtColor(img, cv2.COLOR_BGR2RGB)\n",
        "\n",
        "    img = np.asarray(img, dtype=np.float64)\n",
        "    img /= 255.0\n",
        "\n",
        "    frames.append(img)\n",
        "\n",
        "frames = np.asarray(frames, dtype=np.float64)"
      ]
    },
    {
      "cell_type": "markdown",
      "id": "d3e589fc-902a-419d-8c9a-13311fcab7ea",
      "metadata": {
        "jp-MarkdownHeadingCollapsed": true,
        "tags": [],
        "id": "d3e589fc-902a-419d-8c9a-13311fcab7ea"
      },
      "source": [
        "#### Splitting the data"
      ]
    },
    {
      "cell_type": "code",
      "execution_count": 8,
      "id": "f859993a-2b29-4baf-a168-117151ed240b",
      "metadata": {
        "execution": {
          "iopub.execute_input": "2023-03-08T04:08:37.582241Z",
          "iopub.status.busy": "2023-03-08T04:08:37.581978Z",
          "iopub.status.idle": "2023-03-08T04:08:37.596804Z",
          "shell.execute_reply": "2023-03-08T04:08:37.595584Z",
          "shell.execute_reply.started": "2023-03-08T04:08:37.582220Z"
        },
        "colab": {
          "base_uri": "https://localhost:8080/"
        },
        "id": "f859993a-2b29-4baf-a168-117151ed240b",
        "outputId": "a043b0d0-f8de-4a69-a9e1-f17dacda8029"
      },
      "outputs": [
        {
          "output_type": "stream",
          "name": "stdout",
          "text": [
            "frame: (80, 120, 160, 3)\n",
            "train_frames: (48, 120, 160, 3)\n",
            "test_frames: (32, 120, 160, 3)\n"
          ]
        }
      ],
      "source": [
        "from sklearn.model_selection import train_test_split\n",
        "\n",
        "print(f'frame: {frames.shape}')\n",
        "\n",
        "train_frames, test_frames = train_test_split(frames, train_size=0.6, shuffle=False) # Do Not Shuffle!\n",
        "\n",
        "print(f'train_frames: {train_frames.shape}')\n",
        "print(f'test_frames: {test_frames.shape}')"
      ]
    },
    {
      "cell_type": "markdown",
      "id": "7ec3f0d8",
      "metadata": {
        "id": "7ec3f0d8"
      },
      "source": [
        "Note: You may use helper libraries like `imageio` for working with GIFs.\n",
        "\n",
        "```python\n",
        "import imageio\n",
        "\n",
        "def make_gif(img_list, gif_path, fps=10):\n",
        "    imageio.mimsave(gif_path, img_list, fps=fps)\n",
        "    return\n",
        "```"
      ]
    },
    {
      "cell_type": "code",
      "source": [
        "import imageio\n",
        "import numpy as np\n",
        "import cv2\n",
        "from sklearn.model_selection import train_test_split\n",
        "\n",
        "video = 'traffic.gif'\n",
        "source_path = f'./{video}'\n",
        "\n",
        "gif = imageio.mimread(source_path)\n",
        "\n",
        "frames = [cv2.cvtColor(np.asarray(frame), cv2.COLOR_BGR2RGB).astype(np.float64) / 255.0 for frame in gif]\n",
        "\n",
        "frames_np = np.array(frames)\n",
        "\n",
        "train_frames, test_frames = train_test_split(frames_np, train_size=0.6, shuffle=False)\n",
        "\n",
        "print(f'frame: {frames_np.shape}')\n",
        "print(f'train_frames: {train_frames.shape}')\n",
        "print(f'test_frames: {test_frames.shape}')\n"
      ],
      "metadata": {
        "colab": {
          "base_uri": "https://localhost:8080/"
        },
        "id": "rjZiwapuq0Ph",
        "outputId": "5689d197-35e5-4b99-ff53-19a258ed560d"
      },
      "id": "rjZiwapuq0Ph",
      "execution_count": 11,
      "outputs": [
        {
          "output_type": "stream",
          "name": "stdout",
          "text": [
            "frame: (80, 120, 160, 3)\n",
            "train_frames: (48, 120, 160, 3)\n",
            "test_frames: (32, 120, 160, 3)\n"
          ]
        }
      ]
    },
    {
      "cell_type": "markdown",
      "id": "7cebb520-1657-432d-959d-eec893cb9b44",
      "metadata": {
        "jp-MarkdownHeadingCollapsed": true,
        "tags": [],
        "id": "7cebb520-1657-432d-959d-eec893cb9b44"
      },
      "source": [
        "#### Frame Averaging\n",
        "\n",
        "Extract Background Image from the training data and display it."
      ]
    },
    {
      "cell_type": "code",
      "execution_count": 12,
      "id": "2d08a0a6-770f-462a-8418-a63b6ffec5a0",
      "metadata": {
        "id": "2d08a0a6-770f-462a-8418-a63b6ffec5a0"
      },
      "outputs": [],
      "source": [
        "import imageio"
      ]
    },
    {
      "cell_type": "code",
      "source": [
        "\n",
        "\n",
        "source_path = 'traffic.gif'\n",
        "\n",
        "frames = imageio.mimread(source_path)\n",
        "\n",
        "background_image_avg = np.mean(train_frames, axis=0)\n",
        "\n",
        "background_image_avg_uint8 = (background_image_avg * 255).astype(np.uint8)\n",
        "\n",
        "background_image_path = 'background_image_avg.png'\n",
        "imageio.imwrite(background_image_path, background_image_avg_uint8)\n",
        "\n"
      ],
      "metadata": {
        "id": "1lKQ_zHxn6Pr"
      },
      "id": "1lKQ_zHxn6Pr",
      "execution_count": 13,
      "outputs": []
    },
    {
      "cell_type": "code",
      "source": [
        "import matplotlib.pyplot as plt\n",
        "import matplotlib.image as mpimg\n",
        "\n",
        "img = mpimg.imread('background_image_avg.png')\n",
        "\n",
        "plt.imshow(img)\n",
        "plt.axis('off')\n",
        "plt.show()\n"
      ],
      "metadata": {
        "colab": {
          "base_uri": "https://localhost:8080/",
          "height": 406
        },
        "id": "8QFy4ZWDtGhW",
        "outputId": "161939de-f4c7-4e86-b49c-4e746f13a6ce"
      },
      "id": "8QFy4ZWDtGhW",
      "execution_count": 14,
      "outputs": [
        {
          "output_type": "display_data",
          "data": {
            "text/plain": [
              "<Figure size 640x480 with 1 Axes>"
            ],
            "image/png": "[encoded data removed]"
          },
          "metadata": {}
        }
      ]
    },
    {
      "cell_type": "markdown",
      "id": "17b08135-acc3-4a7f-8d9e-11d9d2e15507",
      "metadata": {
        "jp-MarkdownHeadingCollapsed": true,
        "tags": [],
        "id": "17b08135-acc3-4a7f-8d9e-11d9d2e15507"
      },
      "source": [
        "#### GMMs per pixel\n",
        "\n",
        "Create Set of GMMs for every pixel and fit them considering every training frame"
      ]
    },
    {
      "cell_type": "code",
      "execution_count": 17,
      "id": "630bb208-e186-4892-aea3-41082bd52789",
      "metadata": {
        "execution": {
          "iopub.execute_input": "2023-03-08T07:55:43.637039Z",
          "iopub.status.busy": "2023-03-08T07:55:43.635874Z",
          "iopub.status.idle": "2023-03-08T07:55:43.646623Z",
          "shell.execute_reply": "2023-03-08T07:55:43.644632Z",
          "shell.execute_reply.started": "2023-03-08T07:55:43.636977Z"
        },
        "tags": [],
        "colab": {
          "base_uri": "https://localhost:8080/"
        },
        "id": "630bb208-e186-4892-aea3-41082bd52789",
        "outputId": "c55621a0-4269-4134-a122-0e448d968196"
      },
      "outputs": [
        {
          "output_type": "stream",
          "name": "stdout",
          "text": [
            "Requirement already satisfied: scikit-image in /usr/local/lib/python3.10/dist-packages (0.19.3)\n",
            "Requirement already satisfied: numpy>=1.17.0 in /usr/local/lib/python3.10/dist-packages (from scikit-image) (1.25.2)\n",
            "Requirement already satisfied: scipy>=1.4.1 in /usr/local/lib/python3.10/dist-packages (from scikit-image) (1.11.4)\n",
            "Requirement already satisfied: networkx>=2.2 in /usr/local/lib/python3.10/dist-packages (from scikit-image) (3.2.1)\n",
            "Requirement already satisfied: pillow!=7.1.0,!=7.1.1,!=8.3.0,>=6.1.0 in /usr/local/lib/python3.10/dist-packages (from scikit-image) (9.4.0)\n",
            "Requirement already satisfied: imageio>=2.4.1 in /usr/local/lib/python3.10/dist-packages (from scikit-image) (2.31.6)\n",
            "Requirement already satisfied: tifffile>=2019.7.26 in /usr/local/lib/python3.10/dist-packages (from scikit-image) (2024.2.12)\n",
            "Requirement already satisfied: PyWavelets>=1.1.1 in /usr/local/lib/python3.10/dist-packages (from scikit-image) (1.5.0)\n",
            "Requirement already satisfied: packaging>=20.0 in /usr/local/lib/python3.10/dist-packages (from scikit-image) (23.2)\n"
          ]
        }
      ],
      "source": [
        "!pip install scikit-image\n"
      ]
    },
    {
      "cell_type": "code",
      "source": [
        "import numpy as np\n",
        "import imageio\n",
        "\n",
        "num_frames, height, width, channels = train_frames.shape\n",
        "\n",
        "pixel_gmms = [[None for _ in range(width)] for _ in range(height)]\n",
        "\n",
        "components_num = 2\n",
        "\n",
        "for row in range(height):\n",
        "    for col in range(width):\n",
        "        pixel_values = train_frames[:, row, col, :]\n",
        "        gmm = GMM(n_components=components_num)\n",
        "        gmm.fit(pixel_values.reshape(-1, channels))\n",
        "        pixel_gmms[row][col] = gmm\n",
        "\n",
        "background_model = np.zeros((height, width, channels), dtype=np.float32)\n",
        "for row in range(height):\n",
        "    for col in range(width):\n",
        "        gmm = pixel_gmms[row][col]\n",
        "        highest_weight_index = np.argmax(gmm.weights)\n",
        "        background_model[row, col] = gmm.means[highest_weight_index]\n",
        "\n",
        "background_image = (background_model * 255).astype(np.uint8)\n",
        "background_image_path = 'background_image.png'\n",
        "imageio.imwrite(background_image_path, background_image)\n",
        "\n"
      ],
      "metadata": {
        "id": "tuGtpOTJj0B7"
      },
      "id": "tuGtpOTJj0B7",
      "execution_count": 18,
      "outputs": []
    },
    {
      "cell_type": "code",
      "source": [
        "import numpy as np\n",
        "from sklearn.mixture import GaussianMixture\n",
        "import imageio\n",
        "\n",
        "num_frames, height, width, channels = train_frames.shape\n",
        "\n",
        "pixel_gmms = [[None for _ in range(width)] for _ in range(height)]\n",
        "\n",
        "components_num = 2\n",
        "\n",
        "for row in range(height):\n",
        "    for col in range(width):\n",
        "        pixel_values = train_frames[:, row, col, :]\n",
        "        gmm = GaussianMixture(n_components=components_num, random_state=0)\n",
        "        gmm.fit(pixel_values.reshape(-1, channels))\n",
        "\n",
        "        pixel_gmms[row][col] = gmm\n",
        "\n",
        "background_model = np.zeros((height, width, channels), dtype=np.float32)\n",
        "for row in range(height):\n",
        "    for col in range(width):\n",
        "        gmm = pixel_gmms[row][col]\n",
        "        highest_weight_index = np.argmax(gmm.weights_)\n",
        "        background_model[row, col] = gmm.means_[highest_weight_index]\n",
        "\n",
        "background_image = (background_model * 255).astype(np.uint8)\n",
        "\n",
        "background_image_path = 'background_image.png'\n",
        "imageio.imwrite(background_image_path, background_image)\n",
        "\n",
        "print(f\"Background image saved to {background_image_path}\")\n"
      ],
      "metadata": {
        "colab": {
          "base_uri": "https://localhost:8080/"
        },
        "id": "eoL0pcNWof74",
        "outputId": "d8a2b685-6f0f-4720-a9a4-0690890acf11"
      },
      "id": "eoL0pcNWof74",
      "execution_count": 19,
      "outputs": [
        {
          "metadata": {
            "tags": null
          },
          "name": "stderr",
          "output_type": "stream",
          "text": [
            "/usr/local/lib/python3.10/dist-packages/sklearn/mixture/_base.py:119: ConvergenceWarning: Number of distinct clusters (1) found smaller than n_clusters (2). Possibly due to duplicate points in X.\n",
            "  .fit(X)\n"
          ]
        },
        {
          "metadata": {
            "tags": null
          },
          "name": "stdout",
          "output_type": "stream",
          "text": [
            "Background image saved to background_image.png\n"
          ]
        }
      ]
    },
    {
      "cell_type": "markdown",
      "id": "b046f7c9-1950-4704-a62a-f0f27079f95d",
      "metadata": {
        "jp-MarkdownHeadingCollapsed": true,
        "tags": [],
        "id": "b046f7c9-1950-4704-a62a-f0f27079f95d"
      },
      "source": [
        "#### Extract Background Image from the trained model"
      ]
    },
    {
      "cell_type": "code",
      "source": [
        "import matplotlib.pyplot as plt\n",
        "import matplotlib.image as mpimg\n",
        "\n",
        "img = mpimg.imread('background_image.png')\n",
        "\n",
        "plt.imshow(img)\n",
        "plt.axis('off')  # Hide the axis\n",
        "plt.show()\n"
      ],
      "metadata": {
        "colab": {
          "base_uri": "https://localhost:8080/",
          "height": 406
        },
        "id": "uYL-JLCmw3Tt",
        "outputId": "1ae0d943-4d1f-41af-9d33-8fa939397f43"
      },
      "id": "uYL-JLCmw3Tt",
      "execution_count": 20,
      "outputs": [
        {
          "data": {
            "image/png": "[encoded data removed]",
            "text/plain": [
              "<Figure size 640x480 with 1 Axes>"
            ]
          },
          "metadata": {},
          "output_type": "display_data"
        }
      ]
    },
    {
      "cell_type": "markdown",
      "id": "898f029f-c0d6-4c33-b096-dedf4b389295",
      "metadata": {
        "jp-MarkdownHeadingCollapsed": true,
        "tags": [],
        "id": "898f029f-c0d6-4c33-b096-dedf4b389295"
      },
      "source": [
        "### Outputs\n",
        "\n",
        "You can use the helper functions given below to display and save frames as videos, feel free to change them accordingly."
      ]
    },
    {
      "cell_type": "code",
      "execution_count": 21,
      "id": "7013953b-371b-4111-ba54-cd630b64bec6",
      "metadata": {
        "execution": {
          "iopub.execute_input": "2023-03-08T04:14:25.992340Z",
          "iopub.status.busy": "2023-03-08T04:14:25.991943Z",
          "iopub.status.idle": "2023-03-08T04:14:26.000713Z",
          "shell.execute_reply": "2023-03-08T04:14:25.999863Z",
          "shell.execute_reply.started": "2023-03-08T04:14:25.992307Z"
        },
        "tags": [],
        "id": "7013953b-371b-4111-ba54-cd630b64bec6"
      },
      "outputs": [],
      "source": [
        "# helper functions\n",
        "\n",
        "def display_frames(frames, fps=10.0):\n",
        "    \"\"\"\n",
        "    Display the frames as a video.\n",
        "    \"\"\"\n",
        "    eps = 0.0001\n",
        "\n",
        "    wait_time = int(1000 // fps)\n",
        "\n",
        "    for frame in frames:\n",
        "        frame = frame.astype(np.float64)\n",
        "        frame = (frame - frame.min()) * 255 / (frame.max() - frame.min() + eps)\n",
        "        frame = frame.astype(np.uint8)\n",
        "\n",
        "        frame = cv2.cvtColor(frame, cv2.COLOR_RGB2BGR)\n",
        "\n",
        "        cv2.imshow(\"video\", frame)\n",
        "        k = cv2.waitKey(wait_time)\n",
        "\n",
        "        if k == ord('q'):\n",
        "            print(\"Quitting...\")\n",
        "            break\n",
        "\n",
        "    cv2.destroyAllWindows()\n",
        "\n",
        "\n",
        "def save_frames(frames, fps=10.0, output_path='./results', file_name='temp'):\n",
        "    \"\"\"\n",
        "    Save the frames as a video.\n",
        "    \"\"\"\n",
        "    eps = 0.0001\n",
        "\n",
        "    frame_rate = float(fps)\n",
        "    frame_size = (int(frames[0].shape[1]), int(frames[0].shape[0]))\n",
        "    wait_time = int(1000 // fps)\n",
        "\n",
        "    fourcc = cv2.VideoWriter_fourcc(*'mp4v')\n",
        "\n",
        "    save_path = os.path.join(output_path, f\"{file_name.rsplit('.', 1)[0]}.mp4\")\n",
        "\n",
        "    vid_wrt = cv2.VideoWriter(save_path, fourcc, frame_rate, frame_size)\n",
        "\n",
        "    for frame in frames:\n",
        "        frame = frame.astype(np.float64)\n",
        "        frame = (frame - frame.min()) * 255 / (frame.max() - frame.min() + eps)\n",
        "        frame = frame.astype(np.uint8)\n",
        "\n",
        "        frame = cv2.cvtColor(frame, cv2.COLOR_RGB2BGR)\n",
        "\n",
        "        cv2.imshow('frame',frame)\n",
        "        if cv2.waitKey(wait_time) & 0xFF == ord('q'):\n",
        "            break\n",
        "\n",
        "        vid_wrt.write(frame)\n",
        "\n",
        "\n",
        "    vid_wrt.release()\n",
        "    cv2.destroyAllWindows()"
      ]
    },
    {
      "cell_type": "markdown",
      "id": "68505dec-141f-463d-be72-020fca8e98da",
      "metadata": {
        "jp-MarkdownHeadingCollapsed": true,
        "tags": [],
        "id": "68505dec-141f-463d-be72-020fca8e98da"
      },
      "source": [
        "#### Frame Averaging"
      ]
    },
    {
      "cell_type": "code",
      "execution_count": 22,
      "id": "797fa50a-8d81-4afa-affd-68bb9a10cb6d",
      "metadata": {
        "execution": {
          "iopub.execute_input": "2023-03-08T07:55:43.637039Z",
          "iopub.status.busy": "2023-03-08T07:55:43.635874Z",
          "iopub.status.idle": "2023-03-08T07:55:43.646623Z",
          "shell.execute_reply": "2023-03-08T07:55:43.644632Z",
          "shell.execute_reply.started": "2023-03-08T07:55:43.636977Z"
        },
        "tags": [],
        "id": "797fa50a-8d81-4afa-affd-68bb9a10cb6d"
      },
      "outputs": [],
      "source": [
        "# your output here"
      ]
    },
    {
      "cell_type": "code",
      "source": [
        "import cv2\n",
        "import numpy as np\n",
        "\n",
        "\n",
        "foreground_masks = []\n",
        "\n",
        "threshold_value = 0.2\n",
        "\n",
        "for frame in test_frames:\n",
        "    foreground = np.abs(frame - background_image)\n",
        "    if len(foreground.shape) > 2:\n",
        "        foreground_gray = cv2.cvtColor((foreground * 255).astype(np.uint8), cv2.COLOR_RGB2GRAY)\n",
        "    else:\n",
        "        foreground_gray = (foreground * 255).astype(np.uint8)\n",
        "\n",
        "    _, foreground_mask = cv2.threshold(foreground_gray, threshold_value * 255, 255, cv2.THRESH_BINARY)\n",
        "\n",
        "    kernel = np.ones((5, 5), np.uint8)\n",
        "    foreground_mask = cv2.morphologyEx(foreground_mask, cv2.MORPH_OPEN, kernel)\n",
        "    foreground_mask = cv2.morphologyEx(foreground_mask, cv2.MORPH_CLOSE, kernel)\n",
        "\n",
        "    foreground_masks.append(foreground_mask)\n",
        "\n"
      ],
      "metadata": {
        "id": "rJSb2I6v0pgL"
      },
      "id": "rJSb2I6v0pgL",
      "execution_count": 23,
      "outputs": []
    },
    {
      "cell_type": "markdown",
      "id": "c58c5b0f-9e30-44f6-88dc-8efb91e588a6",
      "metadata": {
        "jp-MarkdownHeadingCollapsed": true,
        "tags": [],
        "id": "c58c5b0f-9e30-44f6-88dc-8efb91e588a6"
      },
      "source": [
        "#### GMMs per pixel"
      ]
    },
    {
      "cell_type": "code",
      "source": [
        "import cv2\n",
        "import numpy as np\n",
        "\n",
        "foreground_masks = []\n",
        "\n",
        "threshold_value = 0.43\n",
        "\n",
        "for frame in test_frames:\n",
        "    foreground = np.abs(frame - background_image)\n",
        "\n",
        "    if len(foreground.shape) > 2:\n",
        "        foreground_gray = cv2.cvtColor((foreground * 255).astype(np.uint8), cv2.COLOR_RGB2GRAY)\n",
        "    else:\n",
        "        foreground_gray = (foreground * 255).astype(np.uint8)\n",
        "\n",
        "    _, foreground_mask = cv2.threshold(foreground_gray, threshold_value * 255, 255, cv2.THRESH_BINARY)\n",
        "\n",
        "    kernel = np.ones((5, 5), np.uint8)\n",
        "    foreground_mask = cv2.morphologyEx(foreground_mask, cv2.MORPH_OPEN, kernel)\n",
        "    foreground_mask = cv2.morphologyEx(foreground_mask, cv2.MORPH_CLOSE, kernel)\n",
        "\n",
        "    foreground_masks.append(foreground_mask)\n",
        "\n"
      ],
      "metadata": {
        "id": "oDYB7X88yMhX"
      },
      "id": "oDYB7X88yMhX",
      "execution_count": 24,
      "outputs": []
    },
    {
      "cell_type": "code",
      "source": [
        "from google.colab.patches import cv2_imshow\n",
        "\n",
        "for i, mask in enumerate(foreground_masks):\n",
        "    print(f'Foreground Mask {i}')\n",
        "    cv2_imshow(mask)\n"
      ],
      "metadata": {
        "colab": {
          "base_uri": "https://localhost:8080/",
          "height": 1000
        },
        "id": "q7-A85lAEozr",
        "outputId": "412902dd-9d60-44ce-823d-919d166058be"
      },
      "id": "q7-A85lAEozr",
      "execution_count": 25,
      "outputs": [
        {
          "metadata": {
            "tags": null
          },
          "name": "stdout",
          "output_type": "stream",
          "text": [
            "Foreground Mask 0\n"
          ]
        },
        {
          "data": {
            "image/png": "[encoded data removed]",
            "text/plain": [
              "<PIL.Image.Image image mode=L size=160x120>"
            ]
          },
          "metadata": {},
          "output_type": "display_data"
        },
        {
          "metadata": {
            "tags": null
          },
          "name": "stdout",
          "output_type": "stream",
          "text": [
            "Foreground Mask 1\n"
          ]
        },
        {
          "data": {
            "image/png": "[encoded data removed]",
            "text/plain": [
              "<PIL.Image.Image image mode=L size=160x120>"
            ]
          },
          "metadata": {},
          "output_type": "display_data"
        },
        {
          "metadata": {
            "tags": null
          },
          "name": "stdout",
          "output_type": "stream",
          "text": [
            "Foreground Mask 2\n"
          ]
        },
        {
          "data": {
            "image/png": "[encoded data removed]",
            "text/plain": [
              "<PIL.Image.Image image mode=L size=160x120>"
            ]
          },
          "metadata": {},
          "output_type": "display_data"
        },
        {
          "metadata": {
            "tags": null
          },
          "name": "stdout",
          "output_type": "stream",
          "text": [
            "Foreground Mask 3\n"
          ]
        },
        {
          "data": {
            "image/png": "[encoded data removed]",
            "text/plain": [
              "<PIL.Image.Image image mode=L size=160x120>"
            ]
          },
          "metadata": {},
          "output_type": "display_data"
        },
        {
          "metadata": {
            "tags": null
          },
          "name": "stdout",
          "output_type": "stream",
          "text": [
            "Foreground Mask 4\n"
          ]
        },
        {
          "data": {
            "image/png": "[encoded data removed]",
            "text/plain": [
              "<PIL.Image.Image image mode=L size=160x120>"
            ]
          },
          "metadata": {},
          "output_type": "display_data"
        },
        {
          "metadata": {
            "tags": null
          },
          "name": "stdout",
          "output_type": "stream",
          "text": [
            "Foreground Mask 5\n"
          ]
        },
        {
          "data": {
            "image/png": "[encoded data removed]",
            "text/plain": [
              "<PIL.Image.Image image mode=L size=160x120>"
            ]
          },
          "metadata": {},
          "output_type": "display_data"
        },
        {
          "metadata": {
            "tags": null
          },
          "name": "stdout",
          "output_type": "stream",
          "text": [
            "Foreground Mask 6\n"
          ]
        },
        {
          "data": {
            "image/png": "[encoded data removed]",
            "text/plain": [
              "<PIL.Image.Image image mode=L size=160x120>"
            ]
          },
          "metadata": {},
          "output_type": "display_data"
        },
        {
          "metadata": {
            "tags": null
          },
          "name": "stdout",
          "output_type": "stream",
          "text": [
            "Foreground Mask 7\n"
          ]
        },
        {
          "data": {
            "image/png": "[encoded data removed]",
            "text/plain": [
              "<PIL.Image.Image image mode=L size=160x120>"
            ]
          },
          "metadata": {},
          "output_type": "display_data"
        },
        {
          "metadata": {
            "tags": null
          },
          "name": "stdout",
          "output_type": "stream",
          "text": [
            "Foreground Mask 8\n"
          ]
        },
        {
          "data": {
            "image/png": "[encoded data removed]",
            "text/plain": [
              "<PIL.Image.Image image mode=L size=160x120>"
            ]
          },
          "metadata": {},
          "output_type": "display_data"
        },
        {
          "metadata": {
            "tags": null
          },
          "name": "stdout",
          "output_type": "stream",
          "text": [
            "Foreground Mask 9\n"
          ]
        },
        {
          "data": {
            "image/png": "[encoded data removed]",
            "text/plain": [
              "<PIL.Image.Image image mode=L size=160x120>"
            ]
          },
          "metadata": {},
          "output_type": "display_data"
        },
        {
          "metadata": {
            "tags": null
          },
          "name": "stdout",
          "output_type": "stream",
          "text": [
            "Foreground Mask 10\n"
          ]
        },
        {
          "data": {
            "image/png": "[encoded data removed]",
            "text/plain": [
              "<PIL.Image.Image image mode=L size=160x120>"
            ]
          },
          "metadata": {},
          "output_type": "display_data"
        },
        {
          "metadata": {
            "tags": null
          },
          "name": "stdout",
          "output_type": "stream",
          "text": [
            "Foreground Mask 11\n"
          ]
        },
        {
          "data": {
            "image/png": "[encoded data removed]",
            "text/plain": [
              "<PIL.Image.Image image mode=L size=160x120>"
            ]
          },
          "metadata": {},
          "output_type": "display_data"
        },
        {
          "metadata": {
            "tags": null
          },
          "name": "stdout",
          "output_type": "stream",
          "text": [
            "Foreground Mask 12\n"
          ]
        },
        {
          "data": {
            "image/png": "[encoded data removed]",
            "text/plain": [
              "<PIL.Image.Image image mode=L size=160x120>"
            ]
          },
          "metadata": {},
          "output_type": "display_data"
        },
        {
          "metadata": {
            "tags": null
          },
          "name": "stdout",
          "output_type": "stream",
          "text": [
            "Foreground Mask 13\n"
          ]
        },
        {
          "data": {
            "image/png": "[encoded data removed]",
            "text/plain": [
              "<PIL.Image.Image image mode=L size=160x120>"
            ]
          },
          "metadata": {},
          "output_type": "display_data"
        },
        {
          "metadata": {
            "tags": null
          },
          "name": "stdout",
          "output_type": "stream",
          "text": [
            "Foreground Mask 14\n"
          ]
        },
        {
          "data": {
            "image/png": "[encoded data removed]",
            "text/plain": [
              "<PIL.Image.Image image mode=L size=160x120>"
            ]
          },
          "metadata": {},
          "output_type": "display_data"
        },
        {
          "metadata": {
            "tags": null
          },
          "name": "stdout",
          "output_type": "stream",
          "text": [
            "Foreground Mask 15\n"
          ]
        },
        {
          "data": {
            "image/png": "[encoded data removed]",
            "text/plain": [
              "<PIL.Image.Image image mode=L size=160x120>"
            ]
          },
          "metadata": {},
          "output_type": "display_data"
        },
        {
          "metadata": {
            "tags": null
          },
          "name": "stdout",
          "output_type": "stream",
          "text": [
            "Foreground Mask 16\n"
          ]
        },
        {
          "data": {
            "image/png": "[encoded data removed]",
            "text/plain": [
              "<PIL.Image.Image image mode=L size=160x120>"
            ]
          },
          "metadata": {},
          "output_type": "display_data"
        },
        {
          "metadata": {
            "tags": null
          },
          "name": "stdout",
          "output_type": "stream",
          "text": [
            "Foreground Mask 17\n"
          ]
        },
        {
          "data": {
            "image/png": "[encoded data removed]",
            "text/plain": [
              "<PIL.Image.Image image mode=L size=160x120>"
            ]
          },
          "metadata": {},
          "output_type": "display_data"
        },
        {
          "metadata": {
            "tags": null
          },
          "name": "stdout",
          "output_type": "stream",
          "text": [
            "Foreground Mask 18\n"
          ]
        },
        {
          "data": {
            "image/png": "[encoded data removed]",
            "text/plain": [
              "<PIL.Image.Image image mode=L size=160x120>"
            ]
          },
          "metadata": {},
          "output_type": "display_data"
        },
        {
          "metadata": {
            "tags": null
          },
          "name": "stdout",
          "output_type": "stream",
          "text": [
            "Foreground Mask 19\n"
          ]
        },
        {
          "data": {
            "image/png": "[encoded data removed]",
            "text/plain": [
              "<PIL.Image.Image image mode=L size=160x120>"
            ]
          },
          "metadata": {},
          "output_type": "display_data"
        },
        {
          "metadata": {
            "tags": null
          },
          "name": "stdout",
          "output_type": "stream",
          "text": [
            "Foreground Mask 20\n"
          ]
        },
        {
          "data": {
            "image/png": "[encoded data removed]",
            "text/plain": [
              "<PIL.Image.Image image mode=L size=160x120>"
            ]
          },
          "metadata": {},
          "output_type": "display_data"
        },
        {
          "metadata": {
            "tags": null
          },
          "name": "stdout",
          "output_type": "stream",
          "text": [
            "Foreground Mask 21\n"
          ]
        },
        {
          "data": {
            "image/png": "[encoded data removed]",
            "text/plain": [
              "<PIL.Image.Image image mode=L size=160x120>"
            ]
          },
          "metadata": {},
          "output_type": "display_data"
        },
        {
          "metadata": {
            "tags": null
          },
          "name": "stdout",
          "output_type": "stream",
          "text": [
            "Foreground Mask 22\n"
          ]
        },
        {
          "data": {
            "image/png": "[encoded data removed]",
            "text/plain": [
              "<PIL.Image.Image image mode=L size=160x120>"
            ]
          },
          "metadata": {},
          "output_type": "display_data"
        },
        {
          "metadata": {
            "tags": null
          },
          "name": "stdout",
          "output_type": "stream",
          "text": [
            "Foreground Mask 23\n"
          ]
        },
        {
          "data": {
            "image/png": "[encoded data removed]",
            "text/plain": [
              "<PIL.Image.Image image mode=L size=160x120>"
            ]
          },
          "metadata": {},
          "output_type": "display_data"
        },
        {
          "metadata": {
            "tags": null
          },
          "name": "stdout",
          "output_type": "stream",
          "text": [
            "Foreground Mask 24\n"
          ]
        },
        {
          "data": {
            "image/png": "[encoded data removed]",
            "text/plain": [
              "<PIL.Image.Image image mode=L size=160x120>"
            ]
          },
          "metadata": {},
          "output_type": "display_data"
        },
        {
          "metadata": {
            "tags": null
          },
          "name": "stdout",
          "output_type": "stream",
          "text": [
            "Foreground Mask 25\n"
          ]
        },
        {
          "data": {
            "image/png": "[encoded data removed]",
            "text/plain": [
              "<PIL.Image.Image image mode=L size=160x120>"
            ]
          },
          "metadata": {},
          "output_type": "display_data"
        },
        {
          "metadata": {
            "tags": null
          },
          "name": "stdout",
          "output_type": "stream",
          "text": [
            "Foreground Mask 26\n"
          ]
        },
        {
          "data": {
            "image/png": "[encoded data removed]",
            "text/plain": [
              "<PIL.Image.Image image mode=L size=160x120>"
            ]
          },
          "metadata": {},
          "output_type": "display_data"
        },
        {
          "metadata": {
            "tags": null
          },
          "name": "stdout",
          "output_type": "stream",
          "text": [
            "Foreground Mask 27\n"
          ]
        },
        {
          "data": {
            "image/png": "[encoded data removed]",
            "text/plain": [
              "<PIL.Image.Image image mode=L size=160x120>"
            ]
          },
          "metadata": {},
          "output_type": "display_data"
        },
        {
          "metadata": {
            "tags": null
          },
          "name": "stdout",
          "output_type": "stream",
          "text": [
            "Foreground Mask 28\n"
          ]
        },
        {
          "data": {
            "image/png": "[encoded data removed]",
            "text/plain": [
              "<PIL.Image.Image image mode=L size=160x120>"
            ]
          },
          "metadata": {},
          "output_type": "display_data"
        },
        {
          "metadata": {
            "tags": null
          },
          "name": "stdout",
          "output_type": "stream",
          "text": [
            "Foreground Mask 29\n"
          ]
        },
        {
          "data": {
            "image/png": "[encoded data removed]",
            "text/plain": [
              "<PIL.Image.Image image mode=L size=160x120>"
            ]
          },
          "metadata": {},
          "output_type": "display_data"
        },
        {
          "metadata": {
            "tags": null
          },
          "name": "stdout",
          "output_type": "stream",
          "text": [
            "Foreground Mask 30\n"
          ]
        },
        {
          "data": {
            "image/png": "[encoded data removed]",
            "text/plain": [
              "<PIL.Image.Image image mode=L size=160x120>"
            ]
          },
          "metadata": {},
          "output_type": "display_data"
        },
        {
          "metadata": {
            "tags": null
          },
          "name": "stdout",
          "output_type": "stream",
          "text": [
            "Foreground Mask 31\n"
          ]
        },
        {
          "data": {
            "image/png": "[encoded data removed]",
            "text/plain": [
              "<PIL.Image.Image image mode=L size=160x120>"
            ]
          },
          "metadata": {},
          "output_type": "display_data"
        }
      ]
    },
    {
      "cell_type": "code",
      "source": [
        "import cv2\n",
        "import os\n",
        "\n",
        "frames_dir = 'frames_result'\n",
        "os.makedirs(frames_dir, exist_ok=True)\n",
        "\n",
        "for i, mask in enumerate(foreground_masks):\n",
        "    frame_path = os.path.join(frames_dir, f'foreground_mask_{i}.png')\n",
        "\n",
        "    cv2.imwrite(frame_path, mask)\n",
        "\n",
        "    print(f'Saved Foreground Mask {i} at {frame_path}')\n"
      ],
      "metadata": {
        "colab": {
          "base_uri": "https://localhost:8080/"
        },
        "id": "qucsmNFeL8Dj",
        "outputId": "0f4433e4-c362-4b6a-abe8-47de5c3025cc"
      },
      "id": "qucsmNFeL8Dj",
      "execution_count": 26,
      "outputs": [
        {
          "metadata": {
            "tags": null
          },
          "name": "stdout",
          "output_type": "stream",
          "text": [
            "Saved Foreground Mask 0 at frames_result/foreground_mask_0.png\n",
            "Saved Foreground Mask 1 at frames_result/foreground_mask_1.png\n",
            "Saved Foreground Mask 2 at frames_result/foreground_mask_2.png\n",
            "Saved Foreground Mask 3 at frames_result/foreground_mask_3.png\n",
            "Saved Foreground Mask 4 at frames_result/foreground_mask_4.png\n",
            "Saved Foreground Mask 5 at frames_result/foreground_mask_5.png\n",
            "Saved Foreground Mask 6 at frames_result/foreground_mask_6.png\n",
            "Saved Foreground Mask 7 at frames_result/foreground_mask_7.png\n",
            "Saved Foreground Mask 8 at frames_result/foreground_mask_8.png\n",
            "Saved Foreground Mask 9 at frames_result/foreground_mask_9.png\n",
            "Saved Foreground Mask 10 at frames_result/foreground_mask_10.png\n",
            "Saved Foreground Mask 11 at frames_result/foreground_mask_11.png\n",
            "Saved Foreground Mask 12 at frames_result/foreground_mask_12.png\n",
            "Saved Foreground Mask 13 at frames_result/foreground_mask_13.png\n",
            "Saved Foreground Mask 14 at frames_result/foreground_mask_14.png\n",
            "Saved Foreground Mask 15 at frames_result/foreground_mask_15.png\n",
            "Saved Foreground Mask 16 at frames_result/foreground_mask_16.png\n",
            "Saved Foreground Mask 17 at frames_result/foreground_mask_17.png\n",
            "Saved Foreground Mask 18 at frames_result/foreground_mask_18.png\n",
            "Saved Foreground Mask 19 at frames_result/foreground_mask_19.png\n",
            "Saved Foreground Mask 20 at frames_result/foreground_mask_20.png\n",
            "Saved Foreground Mask 21 at frames_result/foreground_mask_21.png\n",
            "Saved Foreground Mask 22 at frames_result/foreground_mask_22.png\n",
            "Saved Foreground Mask 23 at frames_result/foreground_mask_23.png\n",
            "Saved Foreground Mask 24 at frames_result/foreground_mask_24.png\n",
            "Saved Foreground Mask 25 at frames_result/foreground_mask_25.png\n",
            "Saved Foreground Mask 26 at frames_result/foreground_mask_26.png\n",
            "Saved Foreground Mask 27 at frames_result/foreground_mask_27.png\n",
            "Saved Foreground Mask 28 at frames_result/foreground_mask_28.png\n",
            "Saved Foreground Mask 29 at frames_result/foreground_mask_29.png\n",
            "Saved Foreground Mask 30 at frames_result/foreground_mask_30.png\n",
            "Saved Foreground Mask 31 at frames_result/foreground_mask_31.png\n"
          ]
        }
      ]
    },
    {
      "cell_type": "code",
      "source": [
        "!zip -r frames.zip frames\n",
        "from google.colab import files\n",
        "files.download('frames.zip')\n"
      ],
      "metadata": {
        "colab": {
          "base_uri": "https://localhost:8080/",
          "height": 1000
        },
        "id": "Qr7HKkduOG82",
        "outputId": "11e67e29-77c5-4824-a1b7-f5fac8841286"
      },
      "id": "Qr7HKkduOG82",
      "execution_count": 27,
      "outputs": [
        {
          "output_type": "stream",
          "name": "stdout",
          "text": [
            "  adding: frames/ (stored 0%)\n",
            "  adding: frames/traffic/ (stored 0%)\n",
            "  adding: frames/traffic/frame_0054.png (deflated 0%)\n",
            "  adding: frames/traffic/frame_0043.png (deflated 0%)\n",
            "  adding: frames/traffic/frame_0072.png (deflated 0%)\n",
            "  adding: frames/traffic/frame_0026.png (deflated 0%)\n",
            "  adding: frames/traffic/frame_0070.png (deflated 0%)\n",
            "  adding: frames/traffic/frame_0068.png (deflated 0%)\n",
            "  adding: frames/traffic/frame_0030.png (deflated 0%)\n",
            "  adding: frames/traffic/frame_0057.png (deflated 0%)\n",
            "  adding: frames/traffic/frame_0046.png (deflated 0%)\n",
            "  adding: frames/traffic/frame_0020.png (deflated 0%)\n",
            "  adding: frames/traffic/frame_0045.png (deflated 0%)\n",
            "  adding: frames/traffic/frame_0002.png (deflated 0%)\n",
            "  adding: frames/traffic/frame_0007.png (deflated 0%)\n",
            "  adding: frames/traffic/frame_0033.png (deflated 0%)\n",
            "  adding: frames/traffic/frame_0071.png (deflated 0%)\n",
            "  adding: frames/traffic/frame_0074.png (deflated 0%)\n",
            "  adding: frames/traffic/frame_0062.png (deflated 0%)\n",
            "  adding: frames/traffic/frame_0021.png (deflated 0%)\n",
            "  adding: frames/traffic/frame_0023.png (deflated 0%)\n",
            "  adding: frames/traffic/frame_0073.png (deflated 0%)\n",
            "  adding: frames/traffic/frame_0063.png (deflated 0%)\n",
            "  adding: frames/traffic/frame_0018.png (deflated 0%)\n",
            "  adding: frames/traffic/frame_0048.png (deflated 0%)\n",
            "  adding: frames/traffic/frame_0036.png (deflated 0%)\n",
            "  adding: frames/traffic/frame_0049.png (deflated 0%)\n",
            "  adding: frames/traffic/frame_0077.png (deflated 0%)\n",
            "  adding: frames/traffic/frame_0010.png (deflated 0%)\n",
            "  adding: frames/traffic/frame_0040.png (deflated 0%)\n",
            "  adding: frames/traffic/frame_0014.png (deflated 0%)\n",
            "  adding: frames/traffic/frame_0064.png (deflated 0%)\n",
            "  adding: frames/traffic/frame_0013.png (deflated 0%)\n",
            "  adding: frames/traffic/frame_0011.png (deflated 0%)\n",
            "  adding: frames/traffic/frame_0044.png (deflated 0%)\n",
            "  adding: frames/traffic/frame_0061.png (deflated 0%)\n",
            "  adding: frames/traffic/frame_0056.png (deflated 0%)\n",
            "  adding: frames/traffic/frame_0047.png (deflated 0%)\n",
            "  adding: frames/traffic/frame_0055.png (deflated 0%)\n",
            "  adding: frames/traffic/frame_0059.png (deflated 0%)\n",
            "  adding: frames/traffic/frame_0017.png (deflated 0%)\n",
            "  adding: frames/traffic/frame_0037.png (deflated 0%)\n",
            "  adding: frames/traffic/frame_0079.png (deflated 0%)\n",
            "  adding: frames/traffic/frame_0075.png (deflated 0%)\n",
            "  adding: frames/traffic/frame_0032.png (deflated 0%)\n",
            "  adding: frames/traffic/frame_0042.png (deflated 0%)\n",
            "  adding: frames/traffic/frame_0005.png (deflated 0%)\n",
            "  adding: frames/traffic/frame_0016.png (deflated 0%)\n",
            "  adding: frames/traffic/frame_0051.png (deflated 0%)\n",
            "  adding: frames/traffic/frame_0035.png (deflated 0%)\n",
            "  adding: frames/traffic/frame_0006.png (deflated 0%)\n",
            "  adding: frames/traffic/frame_0008.png (deflated 0%)\n",
            "  adding: frames/traffic/frame_0031.png (deflated 0%)\n",
            "  adding: frames/traffic/frame_0065.png (deflated 0%)\n",
            "  adding: frames/traffic/frame_0003.png (deflated 0%)\n",
            "  adding: frames/traffic/frame_0058.png (deflated 0%)\n",
            "  adding: frames/traffic/frame_0067.png (deflated 0%)\n",
            "  adding: frames/traffic/frame_0066.png (deflated 0%)\n",
            "  adding: frames/traffic/frame_0078.png (deflated 0%)\n",
            "  adding: frames/traffic/frame_0027.png (deflated 0%)\n",
            "  adding: frames/traffic/frame_0080.png (deflated 0%)\n",
            "  adding: frames/traffic/frame_0009.png (deflated 0%)\n",
            "  adding: frames/traffic/frame_0019.png (deflated 0%)\n",
            "  adding: frames/traffic/frame_0015.png (deflated 0%)\n",
            "  adding: frames/traffic/frame_0053.png (deflated 0%)\n",
            "  adding: frames/traffic/frame_0022.png (deflated 0%)\n",
            "  adding: frames/traffic/frame_0004.png (deflated 0%)\n",
            "  adding: frames/traffic/frame_0052.png (deflated 0%)\n",
            "  adding: frames/traffic/frame_0076.png (deflated 0%)\n",
            "  adding: frames/traffic/frame_0038.png (deflated 0%)\n",
            "  adding: frames/traffic/frame_0024.png (deflated 0%)\n",
            "  adding: frames/traffic/frame_0069.png (deflated 0%)\n",
            "  adding: frames/traffic/frame_0060.png (deflated 0%)\n",
            "  adding: frames/traffic/frame_0041.png (deflated 0%)\n",
            "  adding: frames/traffic/frame_0034.png (deflated 0%)\n",
            "  adding: frames/traffic/frame_0028.png (deflated 0%)\n",
            "  adding: frames/traffic/frame_0025.png (deflated 0%)\n",
            "  adding: frames/traffic/frame_0050.png (deflated 0%)\n",
            "  adding: frames/traffic/frame_0039.png (deflated 0%)\n",
            "  adding: frames/traffic/frame_0001.png (deflated 0%)\n",
            "  adding: frames/traffic/frame_0012.png (deflated 0%)\n",
            "  adding: frames/traffic/frame_0029.png (deflated 0%)\n"
          ]
        },
        {
          "output_type": "display_data",
          "data": {
            "text/plain": [
              "<IPython.core.display.Javascript object>"
            ],
            "application/javascript": [
              "\n",
              "    async function download(id, filename, size) {\n",
              "      if (!google.colab.kernel.accessAllowed) {\n",
              "        return;\n",
              "      }\n",
              "      const div = document.createElement('div');\n",
              "      const label = document.createElement('label');\n",
              "      label.textContent = `Downloading \"${filename}\": `;\n",
              "      div.appendChild(label);\n",
              "      const progress = document.createElement('progress');\n",
              "      progress.max = size;\n",
              "      div.appendChild(progress);\n",
              "      document.body.appendChild(div);\n",
              "\n",
              "      const buffers = [];\n",
              "      let downloaded = 0;\n",
              "\n",
              "      const channel = await google.colab.kernel.comms.open(id);\n",
              "      // Send a message to notify the kernel that we're ready.\n",
              "      channel.send({})\n",
              "\n",
              "      for await (const message of channel.messages) {\n",
              "        // Send a message to notify the kernel that we're ready.\n",
              "        channel.send({})\n",
              "        if (message.buffers) {\n",
              "          for (const buffer of message.buffers) {\n",
              "            buffers.push(buffer);\n",
              "            downloaded += buffer.byteLength;\n",
              "            progress.value = downloaded;\n",
              "          }\n",
              "        }\n",
              "      }\n",
              "      const blob = new Blob(buffers, {type: 'application/binary'});\n",
              "      const a = document.createElement('a');\n",
              "      a.href = window.URL.createObjectURL(blob);\n",
              "      a.download = filename;\n",
              "      div.appendChild(a);\n",
              "      a.click();\n",
              "      div.remove();\n",
              "    }\n",
              "  "
            ]
          },
          "metadata": {}
        },
        {
          "output_type": "display_data",
          "data": {
            "text/plain": [
              "<IPython.core.display.Javascript object>"
            ],
            "application/javascript": [
              "download(\"download_7c1c54dd-2df9-427e-a39b-c17a2bff81bf\", \"frames.zip\", 1527408)"
            ]
          },
          "metadata": {}
        }
      ]
    },
    {
      "cell_type": "code",
      "source": [
        "import cv2\n",
        "import os\n",
        "import numpy as np\n",
        "from google.colab import files\n",
        "\n",
        "def save_frames_colab(frames, fps=10.0, output_path='./', file_name='foreground'):\n",
        "    \"\"\"\n",
        "    Save the frames as a video in Google Colab.\n",
        "    \"\"\"\n",
        "    eps = 0.0001\n",
        "\n",
        "    if not os.path.exists(output_path):\n",
        "        os.makedirs(output_path)\n",
        "\n",
        "    frame_rate = float(fps)\n",
        "    frame_size = (int(frames[0].shape[1]), int(frames[0].shape[0]))\n",
        "\n",
        "    fourcc = cv2.VideoWriter_fourcc(*'mp4v')\n",
        "    save_path = os.path.join(output_path, f\"{file_name}.mp4\")\n",
        "    vid_writer = cv2.VideoWriter(save_path, fourcc, frame_rate, frame_size, isColor=True)\n",
        "\n",
        "    for frame in frames:\n",
        "        frame = frame.astype(np.float64)\n",
        "        frame = (frame - frame.min()) * 255 / (frame.max() - frame.min() + eps)\n",
        "        frame = frame.astype(np.uint8)\n",
        "\n",
        "        frame_bgr = cv2.cvtColor(frame, cv2.COLOR_RGB2BGR)\n",
        "\n",
        "        vid_writer.write(frame_bgr)\n",
        "\n",
        "    vid_writer.release()\n",
        "\n",
        "    return save_path\n",
        "\n",
        "\n",
        "foreground_frames = [np.stack((mask,)*3, axis=-1) for mask in foreground_masks]\n",
        "\n",
        "video_save_path = save_frames_colab(foreground_frames, fps=10.0, file_name='foreground_objects')\n",
        "\n",
        "files.download(video_save_path)\n"
      ],
      "metadata": {
        "colab": {
          "base_uri": "https://localhost:8080/",
          "height": 17
        },
        "id": "QZ0yQ06lyVZc",
        "outputId": "e29f7863-7935-443d-e063-685de5140d3d"
      },
      "id": "QZ0yQ06lyVZc",
      "execution_count": 28,
      "outputs": [
        {
          "output_type": "display_data",
          "data": {
            "text/plain": [
              "<IPython.core.display.Javascript object>"
            ],
            "application/javascript": [
              "\n",
              "    async function download(id, filename, size) {\n",
              "      if (!google.colab.kernel.accessAllowed) {\n",
              "        return;\n",
              "      }\n",
              "      const div = document.createElement('div');\n",
              "      const label = document.createElement('label');\n",
              "      label.textContent = `Downloading \"${filename}\": `;\n",
              "      div.appendChild(label);\n",
              "      const progress = document.createElement('progress');\n",
              "      progress.max = size;\n",
              "      div.appendChild(progress);\n",
              "      document.body.appendChild(div);\n",
              "\n",
              "      const buffers = [];\n",
              "      let downloaded = 0;\n",
              "\n",
              "      const channel = await google.colab.kernel.comms.open(id);\n",
              "      // Send a message to notify the kernel that we're ready.\n",
              "      channel.send({})\n",
              "\n",
              "      for await (const message of channel.messages) {\n",
              "        // Send a message to notify the kernel that we're ready.\n",
              "        channel.send({})\n",
              "        if (message.buffers) {\n",
              "          for (const buffer of message.buffers) {\n",
              "            buffers.push(buffer);\n",
              "            downloaded += buffer.byteLength;\n",
              "            progress.value = downloaded;\n",
              "          }\n",
              "        }\n",
              "      }\n",
              "      const blob = new Blob(buffers, {type: 'application/binary'});\n",
              "      const a = document.createElement('a');\n",
              "      a.href = window.URL.createObjectURL(blob);\n",
              "      a.download = filename;\n",
              "      div.appendChild(a);\n",
              "      a.click();\n",
              "      div.remove();\n",
              "    }\n",
              "  "
            ]
          },
          "metadata": {}
        },
        {
          "output_type": "display_data",
          "data": {
            "text/plain": [
              "<IPython.core.display.Javascript object>"
            ],
            "application/javascript": [
              "download(\"download_b0c85318-fa94-41e6-b145-0fff4e922ebd\", \"foreground_objects.mp4\", 94970)"
            ]
          },
          "metadata": {}
        }
      ]
    },
    {
      "cell_type": "code",
      "source": [],
      "metadata": {
        "id": "Wqh1jt0a0Cfl"
      },
      "id": "Wqh1jt0a0Cfl",
      "execution_count": null,
      "outputs": []
    }
  ],
  "metadata": {
    "kernelspec": {
      "display_name": "Python [conda env:smai]",
      "language": "python",
      "name": "conda-env-smai-py"
    },
    "language_info": {
      "codemirror_mode": {
        "name": "ipython",
        "version": 3
      },
      "file_extension": ".py",
      "mimetype": "text/x-python",
      "name": "python",
      "nbconvert_exporter": "python",
      "pygments_lexer": "ipython3",
      "version": "3.10.8"
    },
    "colab": {
      "provenance": []
    }
  },
  "nbformat": 4,
  "nbformat_minor": 5
}