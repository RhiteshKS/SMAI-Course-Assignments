{
  "nbformat": 4,
  "nbformat_minor": 0,
  "metadata": {
    "colab": {
      "provenance": []
    },
    "kernelspec": {
      "name": "python3",
      "display_name": "Python 3"
    },
    "language_info": {
      "name": "python"
    }
  },
  "cells": [
    {
      "cell_type": "code",
      "execution_count": null,
      "metadata": {
        "id": "qi-Lv1geJlyh"
      },
      "outputs": [],
      "source": [
        "import numpy as np\n",
        "import h5py\n",
        "from sklearn.neural_network import MLPClassifier\n",
        "from sklearn.metrics import accuracy_score\n",
        "\n",
        "# Load training data\n",
        "train_filename = \"training_3digits.hdf5\"\n",
        "train = h5py.File(train_filename, 'r')\n",
        "train_images = np.array(train['images'])\n",
        "train_digits = np.array(train['digits'])\n",
        "train.close()\n",
        "\n",
        "# Load first test data\n",
        "test1_filename = \"testing_3digits_part1.hdf5\"\n",
        "test1 = h5py.File(test1_filename, 'r')\n",
        "test_images_1 = np.array(test1['images'])\n",
        "test_digits_1 = np.array(test1['digits'])\n",
        "test1.close()\n",
        "\n",
        "# Load second test data\n",
        "test2_filename = \"testing_3digits_part2.hdf5\"\n",
        "test2 = h5py.File(test2_filename, 'r')\n",
        "test_images_2 = np.array(test2['images'])\n",
        "test_digits_2 = np.array(test2['digits'])\n",
        "test2.close()\n",
        "\n"
      ]
    },
    {
      "cell_type": "code",
      "source": [
        "# Flatten images\n",
        "train_images_flat = train_images.reshape(train_images.shape[0], -1)\n",
        "test_images_flat_1 = test_images_1.reshape(test_images_1.shape[0], -1)\n",
        "test_images_flat_2 = test_images_2.reshape(test_images_2.shape[0], -1)\n",
        "\n",
        "# Initialize MLPClassifier\n",
        "mlp_clf = MLPClassifier(hidden_layer_sizes=(100,), max_iter=500, alpha=1e-4,\n",
        "                        solver='adam', verbose=10, tol=1e-4, random_state=1,\n",
        "                        learning_rate_init=0.001)\n"
      ],
      "metadata": {
        "id": "-8PCJNkyK39L"
      },
      "execution_count": null,
      "outputs": []
    },
    {
      "cell_type": "code",
      "source": [
        "\n",
        "# Train the model\n",
        "mlp_clf.fit(train_images_flat, train_digits)\n",
        "\n"
      ],
      "metadata": {
        "colab": {
          "base_uri": "https://localhost:8080/",
          "height": 637
        },
        "id": "tyhn-syGK59Q",
        "outputId": "9702bb13-0b05-4193-e4bf-52cb1855f5ed"
      },
      "execution_count": null,
      "outputs": [
        {
          "output_type": "stream",
          "name": "stdout",
          "text": [
            "Iteration 1, loss = 1.02975912\n",
            "Iteration 2, loss = 0.06145400\n",
            "Iteration 3, loss = 0.01515390\n",
            "Iteration 4, loss = 0.00906059\n",
            "Iteration 5, loss = 0.00666741\n",
            "Iteration 6, loss = 0.00572997\n",
            "Iteration 7, loss = 0.00507236\n",
            "Iteration 8, loss = 0.00451728\n",
            "Iteration 9, loss = 0.00406345\n",
            "Iteration 10, loss = 0.00367921\n",
            "Iteration 11, loss = 0.00335045\n",
            "Iteration 12, loss = 0.00307019\n",
            "Iteration 13, loss = 0.00282292\n",
            "Iteration 14, loss = 0.00226512\n",
            "Iteration 15, loss = 0.00160810\n",
            "Iteration 16, loss = 0.00117280\n",
            "Iteration 17, loss = 0.00078883\n",
            "Iteration 18, loss = 0.00062633\n",
            "Iteration 19, loss = 0.00051150\n",
            "Iteration 20, loss = 0.00045132\n",
            "Iteration 21, loss = 0.00040107\n",
            "Iteration 22, loss = 0.00035785\n",
            "Iteration 23, loss = 0.00033098\n",
            "Iteration 24, loss = 0.00030429\n",
            "Iteration 25, loss = 0.00029056\n",
            "Iteration 26, loss = 0.00027594\n",
            "Iteration 27, loss = 0.00025686\n",
            "Iteration 28, loss = 0.00024441\n",
            "Iteration 29, loss = 0.00023385\n",
            "Iteration 30, loss = 0.00022537\n",
            "Training loss did not improve more than tol=0.000100 for 10 consecutive epochs. Stopping.\n"
          ]
        },
        {
          "output_type": "execute_result",
          "data": {
            "text/plain": [
              "MLPClassifier(max_iter=500, random_state=1, verbose=10)"
            ],
            "text/html": [
              "<style>#sk-container-id-1 {color: black;background-color: white;}#sk-container-id-1 pre{padding: 0;}#sk-container-id-1 div.sk-toggleable {background-color: white;}#sk-container-id-1 label.sk-toggleable__label {cursor: pointer;display: block;width: 100%;margin-bottom: 0;padding: 0.3em;box-sizing: border-box;text-align: center;}#sk-container-id-1 label.sk-toggleable__label-arrow:before {content: \"▸\";float: left;margin-right: 0.25em;color: #696969;}#sk-container-id-1 label.sk-toggleable__label-arrow:hover:before {color: black;}#sk-container-id-1 div.sk-estimator:hover label.sk-toggleable__label-arrow:before {color: black;}#sk-container-id-1 div.sk-toggleable__content {max-height: 0;max-width: 0;overflow: hidden;text-align: left;background-color: #f0f8ff;}#sk-container-id-1 div.sk-toggleable__content pre {margin: 0.2em;color: black;border-radius: 0.25em;background-color: #f0f8ff;}#sk-container-id-1 input.sk-toggleable__control:checked~div.sk-toggleable__content {max-height: 200px;max-width: 100%;overflow: auto;}#sk-container-id-1 input.sk-toggleable__control:checked~label.sk-toggleable__label-arrow:before {content: \"▾\";}#sk-container-id-1 div.sk-estimator input.sk-toggleable__control:checked~label.sk-toggleable__label {background-color: #d4ebff;}#sk-container-id-1 div.sk-label input.sk-toggleable__control:checked~label.sk-toggleable__label {background-color: #d4ebff;}#sk-container-id-1 input.sk-hidden--visually {border: 0;clip: rect(1px 1px 1px 1px);clip: rect(1px, 1px, 1px, 1px);height: 1px;margin: -1px;overflow: hidden;padding: 0;position: absolute;width: 1px;}#sk-container-id-1 div.sk-estimator {font-family: monospace;background-color: #f0f8ff;border: 1px dotted black;border-radius: 0.25em;box-sizing: border-box;margin-bottom: 0.5em;}#sk-container-id-1 div.sk-estimator:hover {background-color: #d4ebff;}#sk-container-id-1 div.sk-parallel-item::after {content: \"\";width: 100%;border-bottom: 1px solid gray;flex-grow: 1;}#sk-container-id-1 div.sk-label:hover label.sk-toggleable__label {background-color: #d4ebff;}#sk-container-id-1 div.sk-serial::before {content: \"\";position: absolute;border-left: 1px solid gray;box-sizing: border-box;top: 0;bottom: 0;left: 50%;z-index: 0;}#sk-container-id-1 div.sk-serial {display: flex;flex-direction: column;align-items: center;background-color: white;padding-right: 0.2em;padding-left: 0.2em;position: relative;}#sk-container-id-1 div.sk-item {position: relative;z-index: 1;}#sk-container-id-1 div.sk-parallel {display: flex;align-items: stretch;justify-content: center;background-color: white;position: relative;}#sk-container-id-1 div.sk-item::before, #sk-container-id-1 div.sk-parallel-item::before {content: \"\";position: absolute;border-left: 1px solid gray;box-sizing: border-box;top: 0;bottom: 0;left: 50%;z-index: -1;}#sk-container-id-1 div.sk-parallel-item {display: flex;flex-direction: column;z-index: 1;position: relative;background-color: white;}#sk-container-id-1 div.sk-parallel-item:first-child::after {align-self: flex-end;width: 50%;}#sk-container-id-1 div.sk-parallel-item:last-child::after {align-self: flex-start;width: 50%;}#sk-container-id-1 div.sk-parallel-item:only-child::after {width: 0;}#sk-container-id-1 div.sk-dashed-wrapped {border: 1px dashed gray;margin: 0 0.4em 0.5em 0.4em;box-sizing: border-box;padding-bottom: 0.4em;background-color: white;}#sk-container-id-1 div.sk-label label {font-family: monospace;font-weight: bold;display: inline-block;line-height: 1.2em;}#sk-container-id-1 div.sk-label-container {text-align: center;}#sk-container-id-1 div.sk-container {/* jupyter's `normalize.less` sets `[hidden] { display: none; }` but bootstrap.min.css set `[hidden] { display: none !important; }` so we also need the `!important` here to be able to override the default hidden behavior on the sphinx rendered scikit-learn.org. See: https://github.com/scikit-learn/scikit-learn/issues/21755 */display: inline-block !important;position: relative;}#sk-container-id-1 div.sk-text-repr-fallback {display: none;}</style><div id=\"sk-container-id-1\" class=\"sk-top-container\"><div class=\"sk-text-repr-fallback\"><pre>MLPClassifier(max_iter=500, random_state=1, verbose=10)</pre><b>In a Jupyter environment, please rerun this cell to show the HTML representation or trust the notebook. <br />On GitHub, the HTML representation is unable to render, please try loading this page with nbviewer.org.</b></div><div class=\"sk-container\" hidden><div class=\"sk-item\"><div class=\"sk-estimator sk-toggleable\"><input class=\"sk-toggleable__control sk-hidden--visually\" id=\"sk-estimator-id-1\" type=\"checkbox\" checked><label for=\"sk-estimator-id-1\" class=\"sk-toggleable__label sk-toggleable__label-arrow\">MLPClassifier</label><div class=\"sk-toggleable__content\"><pre>MLPClassifier(max_iter=500, random_state=1, verbose=10)</pre></div></div></div></div></div>"
            ]
          },
          "metadata": {},
          "execution_count": 3
        }
      ]
    },
    {
      "cell_type": "code",
      "source": [
        "# Test the model on the first test set\n",
        "test_predictions_1 = mlp_clf.predict(test_images_flat_1)\n",
        "accuracy_1 = accuracy_score(test_digits_1, test_predictions_1)\n",
        "print(\"Accuracy on test set 1:\", accuracy_1)\n",
        "\n",
        "# Test the model on the second test set\n",
        "test_predictions_2 = mlp_clf.predict(test_images_flat_2)\n",
        "accuracy_2 = accuracy_score(test_digits_2, test_predictions_2)\n",
        "print(\"Accuracy on test set 2:\", accuracy_2)\n"
      ],
      "metadata": {
        "colab": {
          "base_uri": "https://localhost:8080/"
        },
        "id": "UC70S8HoK73A",
        "outputId": "893d7f0a-2ef2-4e1a-caf7-15d80dae2678"
      },
      "execution_count": null,
      "outputs": [
        {
          "output_type": "stream",
          "name": "stdout",
          "text": [
            "Accuracy on test set 1: 1.0\n",
            "Accuracy on test set 2: 0.0\n"
          ]
        }
      ]
    },
    {
      "cell_type": "markdown",
      "source": [
        "The stark difference in accuracy between the two test sets, with perfect accuracy on test set 1 and zero accuracy on test set 2, suggests a specific pattern in the data or a characteristic discrepancy between the sets that the model has learned to exploit or is struggling to generalize across.\n",
        "\n",
        "## Inference:\n",
        "\n",
        "* #### Overfitting to Test Set 1:\n",
        "The model might have overfit to the specific patterns present in test set 1 during training. This overfitting could have resulted from the model learning noise or specific features unique to test set 1 that do not generalize well to other datasets.\n",
        "* #### Generalization Failure:\n",
        "The model's inability to generalize its learned patterns to test set 2 indicates a generalization failure. This could be due to significant differences in the distribution, characteristics, or noise levels between the training set and test set 2."
      ],
      "metadata": {
        "id": "f_95EHOz6RfU"
      }
    },
    {
      "cell_type": "code",
      "source": [],
      "metadata": {
        "id": "IvEDKxNEMGgl"
      },
      "execution_count": null,
      "outputs": []
    }
  ]
}